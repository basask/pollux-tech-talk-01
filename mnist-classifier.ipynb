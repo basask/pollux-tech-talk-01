{
 "cells": [
  {
   "cell_type": "markdown",
   "metadata": {},
   "source": [
    "# Solving image classification through Convolutional Neural Networks\n",
    "\n",
    "We are going predict numbers on an image using a Machine Leaning technique called Convolutional N \n",
    "\n",
    "Actually, we are going to classify images in classes from 0 to 9.\n",
    "\n",
    "The dataset we are going to use will be the MNIST dataset.\n",
    "\n",
    "This is a famous dataset that contains lots of handwritten digits. \n",
    "\n",
    "**Note:** Convolutional Neural Networks are also called CNNs of CONVnets."
   ]
  },
  {
   "cell_type": "code",
   "execution_count": 7,
   "metadata": {},
   "outputs": [],
   "source": [
    "import keras\n",
    "\n",
    "from keras.datasets import mnist\n",
    "\n",
    "from keras.models import Model\n",
    "\n",
    "from keras.layers import Dense, Dropout, Flatten, Input\n",
    "from keras.layers import Conv2D, MaxPooling2D\n",
    "\n",
    "from keras.utils import to_categorical"
   ]
  },
  {
   "cell_type": "code",
   "execution_count": 8,
   "metadata": {},
   "outputs": [],
   "source": [
    "# Number of classes we are going to predict\n",
    "num_classes = 10\n",
    "\n",
    "# Number of images included on one epoch\n",
    "batch_size = 100\n",
    "\n",
    "# Number of epochs we a going t train our model\n",
    "epochs = 1\n",
    "\n",
    "# Size of the images loaded from the MNIST dataset\n",
    "img_rows, img_cols = 28, 28"
   ]
  },
  {
   "cell_type": "markdown",
   "metadata": {},
   "source": [
    "# Loading dataset\n",
    "\n",
    "We are going to use the MNIST dataset from Keras framework"
   ]
  },
  {
   "cell_type": "code",
   "execution_count": 9,
   "metadata": {},
   "outputs": [],
   "source": [
    "# Loading dataset from keras\n",
    "(x_train, y_train), (x_test, y_test) = mnist.load_data()\n",
    "\n",
    "# reshaping Xs inputs\n",
    "x_train = x_train.reshape(x_train.shape[0], img_rows, img_cols, 1)\n",
    "x_test = x_test.reshape(x_test.shape[0], img_rows, img_cols, 1)\n",
    "\n",
    "# Encoding classes into OneHot arrays\n",
    "y_train = to_categorical(y_train)\n",
    "y_test = to_categorical(y_test)\n",
    "\n",
    "input_shape = (img_rows, img_cols, 1)\n",
    "\n",
    "# Casting train set to float and normalize it to decimal scale (/= 255)\n",
    "x_train = x_train.astype('float32')\n",
    "x_test = x_test.astype('float32')\n",
    "\n",
    "x_train /= 255\n",
    "x_test /= 255"
   ]
  },
  {
   "cell_type": "markdown",
   "metadata": {},
   "source": [
    "# Exploring the dataset"
   ]
  },
  {
   "cell_type": "code",
   "execution_count": 10,
   "metadata": {
    "scrolled": true
   },
   "outputs": [
    {
     "name": "stdout",
     "output_type": "stream",
     "text": [
      "x_train shape: (60000, 28, 28, 1)\n",
      "x_test shape: (10000, 28, 28, 1)\n",
      "y_train shape: (60000, 10)\n",
      "y_test shape: (10000, 10)\n",
      "60000 train samples\n",
      "10000 test samples\n"
     ]
    }
   ],
   "source": [
    "print('x_train shape:', x_train.shape)\n",
    "print('x_test shape:', x_test.shape)\n",
    "print('y_train shape:', y_train.shape)\n",
    "print('y_test shape:', y_test.shape)\n",
    "\n",
    "print(x_train.shape[0], 'train samples')\n",
    "print(x_test.shape[0], 'test samples')"
   ]
  },
  {
   "cell_type": "code",
   "execution_count": 17,
   "metadata": {},
   "outputs": [
    {
     "data": {
      "text/plain": [
       "array([[0., 0., 0., 0., 0., 1., 0., 0., 0., 0.],\n",
       "       [1., 0., 0., 0., 0., 0., 0., 0., 0., 0.],\n",
       "       [0., 0., 0., 0., 1., 0., 0., 0., 0., 0.],\n",
       "       [0., 1., 0., 0., 0., 0., 0., 0., 0., 0.],\n",
       "       [0., 0., 0., 0., 0., 0., 0., 0., 0., 1.],\n",
       "       [0., 0., 1., 0., 0., 0., 0., 0., 0., 0.],\n",
       "       [0., 1., 0., 0., 0., 0., 0., 0., 0., 0.],\n",
       "       [0., 0., 0., 1., 0., 0., 0., 0., 0., 0.],\n",
       "       [0., 1., 0., 0., 0., 0., 0., 0., 0., 0.],\n",
       "       [0., 0., 0., 0., 1., 0., 0., 0., 0., 0.]], dtype=float32)"
      ]
     },
     "execution_count": 17,
     "metadata": {},
     "output_type": "execute_result"
    }
   ],
   "source": [
    "y_train[:10]"
   ]
  },
  {
   "cell_type": "markdown",
   "metadata": {},
   "source": [
    "# Ploting image samples"
   ]
  },
  {
   "cell_type": "code",
   "execution_count": 14,
   "metadata": {},
   "outputs": [],
   "source": [
    "import matplotlib.pyplot as plt\n",
    "\n",
    "plt.rcParams['figure.figsize'] = (12,9)"
   ]
  },
  {
   "cell_type": "code",
   "execution_count": 16,
   "metadata": {},
   "outputs": [
    {
     "data": {
      "image/png": "[encoded data removed]",
      "text/plain": [
       "<Figure size 864x648 with 15 Axes>"
      ]
     },
     "metadata": {
      "needs_background": "light"
     },
     "output_type": "display_data"
    }
   ],
   "source": [
    "from itertools import product\n",
    "\n",
    "lines, columns = (3,5)\n",
    "sample_id = 8\n",
    "for line, column in product(range(lines), range(columns)):\n",
    "    ax1 = plt.subplot2grid((lines, columns), (line, column))\n",
    "    sample_image = x_test[sample_id]\n",
    "    image = sample_image.reshape(28, 28)\n",
    "    imgplot = ax1.imshow(image, cmap='gray')\n",
    "    sample_id += 1"
   ]
  },
  {
   "cell_type": "markdown",
   "metadata": {},
   "source": [
    "# Convolutional Network Model\n",
    "\n",
    "![image](assets/cnn.jpeg)\n",
    "\n",
    "For the convolutional networks, images are just a matrix of numbers.\n",
    "\n",
    "In the case of our MNIST dataset we have images of size 32 x 32. As the images got three channels (RGB) we end up with a matrix of 32 x 32 x 3 ( = 3072 features)\n",
    "\n",
    "For an image of 256 X 256 we have almost 200.000 cell (features) to process. That's why the conventional approach of a regular neural network isn't applied for image classification. They are too computational expensive for this task."
   ]
  },
  {
   "cell_type": "markdown",
   "metadata": {},
   "source": [
    "# Layers details \n",
    "\n",
    "\n",
    "![structure](assets/cnn-layers.png)"
   ]
  },
  {
   "cell_type": "markdown",
   "metadata": {},
   "source": [
    "# Convolution\n",
    "\n",
    "Animation of a convolution of filter 3x3 on a volume of 5x5 with stride 1\n",
    "\n",
    "![SegmentLocal](assets/convolution.gif \"segment\")\n"
   ]
  },
  {
   "cell_type": "markdown",
   "metadata": {},
   "source": [
    "# Max polling\n",
    "\n",
    "A technique to reduce the volume size without losing much information.\n",
    "\n",
    "![title](assets/maxpool.png)"
   ]
  },
  {
   "cell_type": "markdown",
   "metadata": {},
   "source": [
    "# Convolutional model"
   ]
  },
  {
   "cell_type": "code",
   "execution_count": 23,
   "metadata": {},
   "outputs": [
    {
     "name": "stdout",
     "output_type": "stream",
     "text": [
      "_________________________________________________________________\n",
      "Layer (type)                 Output Shape              Param #   \n",
      "=================================================================\n",
      "input_4 (InputLayer)         (None, 28, 28, 1)         0         \n",
      "_________________________________________________________________\n",
      "conv2d_7 (Conv2D)            (None, 26, 26, 32)        320       \n",
      "_________________________________________________________________\n",
      "conv2d_8 (Conv2D)            (None, 24, 24, 64)        18496     \n",
      "_________________________________________________________________\n",
      "max_pooling2d_5 (MaxPooling2 (None, 12, 12, 64)        0         \n",
      "_________________________________________________________________\n",
      "dropout_7 (Dropout)          (None, 12, 12, 64)        0         \n",
      "_________________________________________________________________\n",
      "flatten_4 (Flatten)          (None, 9216)              0         \n",
      "_________________________________________________________________\n",
      "dense_7 (Dense)              (None, 10)                92170     \n",
      "=================================================================\n",
      "Total params: 110,986\n",
      "Trainable params: 110,986\n",
      "Non-trainable params: 0\n",
      "_________________________________________________________________\n"
     ]
    }
   ],
   "source": [
    "X_inputs = Input(input_shape)\n",
    "\n",
    "X = Conv2D(32, (3, 3), activation='relu')(X_inputs)\n",
    "X = Conv2D(64, (3, 3), activation='relu')(X)\n",
    "X = MaxPooling2D((2, 2))(X)\n",
    "\n",
    "X = Dropout(rate=0.25)(X)\n",
    "\n",
    "X = Flatten()(X)\n",
    "\n",
    "# X = Dense(128, activation='relu')(X)\n",
    "# X = Dropout(rate=0.5)(X)\n",
    "\n",
    "X = Dense(num_classes, activation='softmax')(X)\n",
    "\n",
    "model = Model(inputs=X_inputs, outputs=X)\n",
    "\n",
    "model.summary()"
   ]
  },
  {
   "cell_type": "code",
   "execution_count": 24,
   "metadata": {},
   "outputs": [
    {
     "name": "stdout",
     "output_type": "stream",
     "text": [
      "Train on 60000 samples, validate on 10000 samples\n",
      "Epoch 1/1\n",
      "60000/60000 [==============================] - 107s 2ms/step - loss: 0.2033 - acc: 0.9378 - val_loss: 0.0631 - val_acc: 0.9805\n"
     ]
    },
    {
     "data": {
      "text/plain": [
       "<keras.callbacks.History at 0x7f626c40c160>"
      ]
     },
     "execution_count": 24,
     "metadata": {},
     "output_type": "execute_result"
    }
   ],
   "source": [
    "model.compile(loss='categorical_crossentropy', optimizer='Adadelta', metrics=['accuracy'])\n",
    "\n",
    "model.fit(\n",
    "    x_train, \n",
    "    y_train,\n",
    "    batch_size=batch_size,\n",
    "    epochs=epochs,\n",
    "    validation_data=(x_test, y_test)\n",
    ")"
   ]
  },
  {
   "cell_type": "code",
   "execution_count": 22,
   "metadata": {},
   "outputs": [
    {
     "name": "stdout",
     "output_type": "stream",
     "text": [
      "OK (5 == 5)\n"
     ]
    },
    {
     "data": {
      "image/png": "[encoded data removed]",
      "text/plain": [
       "<Figure size 1296x648 with 2 Axes>"
      ]
     },
     "metadata": {
      "needs_background": "light"
     },
     "output_type": "display_data"
    }
   ],
   "source": [
    "import matplotlib.pyplot as plt\n",
    "import numpy as np\n",
    "\n",
    "# Set image size on matplotlib\n",
    "plt.rcParams['figure.figsize'] = (18,9)\n",
    "\n",
    "# Choosing sample id\n",
    "sample_id = 8\n",
    "\n",
    "# Extracting sample image and label from test dataset\n",
    "sample_image = x_test[sample_id]\n",
    "sample_label = y_test[sample_id]\n",
    "\n",
    "# Reshaping sample image\n",
    "sample_image = sample_image.reshape((1, 28, 28, 1))\n",
    "\n",
    "# Retrieving model prediction\n",
    "probs = model.predict(sample_image)\n",
    "\n",
    "# Finding the image class\n",
    "prediction = np.argmax(probs)\n",
    "label = np.argmax(sample_label)\n",
    "\n",
    "prediction_tag = 'OK' if label == prediction else 'NOK'\n",
    "print('{} ({} == {})'.format(prediction_tag, label, prediction))\n",
    "\n",
    "# Ploting\n",
    "ax1 = plt.subplot2grid((1,2), (0, 0))\n",
    "ax2 = plt.subplot2grid((1,2), (0, 1))\n",
    "\n",
    "image = sample_image.reshape(28, 28)\n",
    "imgplot = ax1.imshow(image, cmap='gray')\n",
    "\n",
    "plt.title('Prediction probability')\n",
    "\n",
    "ax2.bar([str(i) for i in range(10)], probs[0]);"
   ]
  }
 ],
 "metadata": {
  "kernelspec": {
   "display_name": "Python 3",
   "language": "python",
   "name": "python3"
  },
  "language_info": {
   "codemirror_mode": {
    "name": "ipython",
    "version": 3
   },
   "file_extension": ".py",
   "mimetype": "text/x-python",
   "name": "python",
   "nbconvert_exporter": "python",
   "pygments_lexer": "ipython3",
   "version": "3.7.3"
  }
 },
 "nbformat": 4,
 "nbformat_minor": 2
}
